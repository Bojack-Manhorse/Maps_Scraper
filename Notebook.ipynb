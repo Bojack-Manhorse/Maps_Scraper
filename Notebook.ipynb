{
 "cells": [
  {
   "cell_type": "code",
   "execution_count": 1,
   "metadata": {},
   "outputs": [],
   "source": [
    "from map_scraper import MapsScraper"
   ]
  },
  {
   "cell_type": "code",
   "execution_count": 16,
   "metadata": {},
   "outputs": [],
   "source": [
    "scraper = MapsScraper()"
   ]
  },
  {
   "cell_type": "code",
   "execution_count": null,
   "metadata": {},
   "outputs": [],
   "source": [
    "search_query = 'Enter Here' # <-- enter there"
   ]
  },
  {
   "cell_type": "code",
   "execution_count": 9,
   "metadata": {},
   "outputs": [],
   "source": [
    "#scraper.set_list_of_links_to_crawl('Barbers Mayfair')\n",
    "#scraper.save_links_to_text_file('Links.txt')"
   ]
  },
  {
   "cell_type": "code",
   "execution_count": 18,
   "metadata": {},
   "outputs": [],
   "source": [
    "scraper.crawl_all_links(limit=4)"
   ]
  },
  {
   "cell_type": "code",
   "execution_count": 19,
   "metadata": {},
   "outputs": [
    {
     "data": {
      "text/plain": [
       "[{'Name': '',\n",
       "  'Address': '39 N Row, London W1K 6DL ',\n",
       "  'Booking link': 'None found.',\n",
       "  'Website': 'mayfairbarber.com ',\n",
       "  'Phone Number': '07776 778886 ',\n",
       "  'Opening times': {'Tuesday': '10 am to 9 pm',\n",
       "   'Wednesday': '10 am to 9 pm',\n",
       "   'Thursday': '10 am to 9 pm',\n",
       "   'Friday': '10 am to 9 pm',\n",
       "   'Saturday': '10 am to 9 pm',\n",
       "   'Sunday': '10 am to 8 pm',\n",
       "   'Monday': '10 am to 9 pm'}},\n",
       " {'Name': 'Barbershop of Mayfair',\n",
       "  'Address': '86-90 Park St, London W1K 2DG ',\n",
       "  'Booking link': 'barbershopmayfair.com',\n",
       "  'Website': 'barbershopmayfair.com ',\n",
       "  'Phone Number': '07404 195583 ',\n",
       "  'Opening times': {'Tuesday': '9 am to 7 pm',\n",
       "   'Wednesday': '9 am to 7 pm',\n",
       "   'Thursday': '9 am to 7 pm',\n",
       "   'Friday': '9 am to 7 pm',\n",
       "   'Saturday': 'Closed',\n",
       "   'Sunday': 'Closed',\n",
       "   'Monday': '9 am to 7 pm'}},\n",
       " {'Name': 'Hestory Mayfair',\n",
       "  'Address': '1 White Horse St, London W1J 7LB ',\n",
       "  'Booking link': 'None found.',\n",
       "  'Website': 'hestory.com ',\n",
       "  'Phone Number': '07869 555220 ',\n",
       "  'Opening times': {'Tuesday': '10 am to 7 pm',\n",
       "   'Wednesday': '10 am to 7 pm',\n",
       "   'Thursday': '10 am to 7 pm',\n",
       "   'Friday': '10 am to 7 pm',\n",
       "   'Saturday': '10 am to 6 pm',\n",
       "   'Sunday': 'Closed',\n",
       "   'Monday': '10 am to 7 pm'}},\n",
       " {'Name': \"Ted's Grooming Room\",\n",
       "  'Address': '11 Curzon St, London W1J 5HJ ',\n",
       "  'Booking link': 'tedsgroomingroom.com',\n",
       "  'Website': 'tedsgroomingroom.com ',\n",
       "  'Phone Number': '020 3397 9966 ',\n",
       "  'Opening times': {'Tuesday': '9 am to 7:30 pm',\n",
       "   'Wednesday': '9 am to 7:30 pm',\n",
       "   'Thursday': '9 am to 7:30 pm',\n",
       "   'Friday': '9 am to 7:30 pm',\n",
       "   'Saturday': '9 am to 6 pm',\n",
       "   'Sunday': '10 am to 6 pm',\n",
       "   'Monday': '9 am to 7:30 pm'}}]"
      ]
     },
     "execution_count": 19,
     "metadata": {},
     "output_type": "execute_result"
    }
   ],
   "source": [
    "scraper.list_of_data"
   ]
  },
  {
   "cell_type": "code",
   "execution_count": null,
   "metadata": {},
   "outputs": [],
   "source": []
  }
 ],
 "metadata": {
  "kernelspec": {
   "display_name": "base",
   "language": "python",
   "name": "python3"
  },
  "language_info": {
   "codemirror_mode": {
    "name": "ipython",
    "version": 3
   },
   "file_extension": ".py",
   "mimetype": "text/x-python",
   "name": "python",
   "nbconvert_exporter": "python",
   "pygments_lexer": "ipython3",
   "version": "3.12.4"
  }
 },
 "nbformat": 4,
 "nbformat_minor": 2
}
