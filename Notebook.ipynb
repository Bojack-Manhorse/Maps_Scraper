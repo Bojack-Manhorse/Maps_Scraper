{
 "cells": [
  {
   "cell_type": "markdown",
   "metadata": {},
   "source": [
    "# Google Maps Scraper\n",
    "\n",
    "## Initialisation"
   ]
  },
  {
   "cell_type": "markdown",
   "metadata": {},
   "source": [
    "First we import the `MapsScraper` class from `map_scraper.py`, then we instantiate an object of that class.\n",
    "\n",
    "This will open an empty firefox window, **do not close it!**"
   ]
  },
  {
   "cell_type": "code",
   "execution_count": 1,
   "metadata": {},
   "outputs": [],
   "source": [
    "from map_scraper import MapsScraper\n",
    "\n",
    "scraper = MapsScraper()"
   ]
  },
  {
   "cell_type": "markdown",
   "metadata": {},
   "source": [
    "## Search query\n",
    "\n",
    "Enter the search query for google maps below. Best practice is to seach `Barbers <location>`.\n",
    "\n",
    "Code should look like:\n",
    "\n",
    "```\n",
    "search_query = 'Barbers Mayfair'\n",
    "```\n",
    "\n",
    "with the seach location within single or double quotation marks."
   ]
  },
  {
   "cell_type": "code",
   "execution_count": 1,
   "metadata": {},
   "outputs": [],
   "source": [
    "search_query = 'Barbers Somewhere' # <-- Enter there"
   ]
  },
  {
   "cell_type": "markdown",
   "metadata": {},
   "source": [
    "## Running the scraper\n",
    "\n",
    "### Scraping links of merchants\n",
    "\n",
    "The following cell runs the link crawler part of the scraper. This submits `search_query` to google maps and saves the links of all the merchants that show up.\n",
    "\n",
    "The code won't ruin unless you remove the hastags `#` at the **beginnning** of each line. Do no remove the hashtags in the middle of each line."
   ]
  },
  {
   "cell_type": "code",
   "execution_count": null,
   "metadata": {},
   "outputs": [],
   "source": [
    "#scraper.scrape_search_results(search_query, limit = 10) # <-- Change limit to whatever you think is sensible.\n",
    "#scraper.save_links_to_text_file('Links.txt') # <-- Change `Links.txt` to some other file if you'd like to save the links somewhere else."
   ]
  },
  {
   "cell_type": "markdown",
   "metadata": {},
   "source": [
    "### Loading a list of links\n",
    "\n",
    "If you already have a list of links, you can import them here. Again remove the hashtag at the **beginning** of the line to run the code."
   ]
  },
  {
   "cell_type": "code",
   "execution_count": 5,
   "metadata": {},
   "outputs": [],
   "source": [
    "#scraper.import_links_from_text_file(\"Links.txt\") # Change `Links.txt` to wherever you have the links stored."
   ]
  },
  {
   "cell_type": "markdown",
   "metadata": {},
   "source": [
    "### Checking the list of links\n",
    "\n",
    "Before proceding further, we should check what links the scraper will crawl. \n",
    "\n",
    "Run the following cell to print all the links the scraper class has stores. \n",
    "\n",
    "If something looks wrong then go back to the start of the notebook."
   ]
  },
  {
   "cell_type": "code",
   "execution_count": null,
   "metadata": {},
   "outputs": [],
   "source": [
    "print(scraper.list_of_links)"
   ]
  },
  {
   "cell_type": "markdown",
   "metadata": {},
   "source": [
    "### Crawling the links\n",
    "\n",
    "Once the list of links is set, run the following two cells to scrape each merchant in the list of links.\n",
    "\n",
    "The scraper will stop after `limit` merchants, set it to whatever you think is sensible.\n",
    "\n",
    "Then the scraper will save the scraped data to the file specified in `directory`, which can be changed if preferred.."
   ]
  },
  {
   "cell_type": "code",
   "execution_count": 6,
   "metadata": {},
   "outputs": [],
   "source": [
    "scraper.crawl_all_links(limit=10) # <-- Change limit to whatever you think is sensible."
   ]
  },
  {
   "cell_type": "code",
   "execution_count": null,
   "metadata": {},
   "outputs": [],
   "source": [
    "scraper.save_data_to_json(directory='data.json') # <-- Change directory to whatever works."
   ]
  }
 ],
 "metadata": {
  "kernelspec": {
   "display_name": "base",
   "language": "python",
   "name": "python3"
  },
  "language_info": {
   "codemirror_mode": {
    "name": "ipython",
    "version": 3
   },
   "file_extension": ".py",
   "mimetype": "text/x-python",
   "name": "python",
   "nbconvert_exporter": "python",
   "pygments_lexer": "ipython3",
   "version": "3.12.4"
  }
 },
 "nbformat": 4,
 "nbformat_minor": 2
}
